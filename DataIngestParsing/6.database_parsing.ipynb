{
 "cells": [
  {
   "cell_type": "markdown",
   "id": "4b2acfdb",
   "metadata": {},
   "source": [
    "### Database Parsing and Processing"
   ]
  },
  {
   "cell_type": "markdown",
   "id": "db30f101",
   "metadata": {},
   "source": [
    "SQL Database"
   ]
  },
  {
   "cell_type": "code",
   "execution_count": 1,
   "id": "3a85feae",
   "metadata": {},
   "outputs": [],
   "source": [
    "import os\n",
    "import sqlite3\n",
    "from langchain_community.utilities import SQLDatabase\n",
    "from langchain_community.document_loaders import SQLDatabaseLoader\n",
    "from typing import List\n",
    "from langchain_core.documents import Document"
   ]
  },
  {
   "cell_type": "code",
   "execution_count": 2,
   "id": "0d02be2f",
   "metadata": {},
   "outputs": [],
   "source": [
    "# Create a directory\n",
    "database_dir = os.makedirs('data/db', exist_ok=True)\n",
    "database_dir"
   ]
  },
  {
   "cell_type": "code",
   "execution_count": 3,
   "id": "a2dcc043",
   "metadata": {},
   "outputs": [],
   "source": [
    "# Create sample sqlite database\n",
    "conn = sqlite3.connect('data/db/company_db.db')\n",
    "cursor = conn.cursor()"
   ]
  },
  {
   "cell_type": "code",
   "execution_count": 4,
   "id": "703ef91d",
   "metadata": {},
   "outputs": [
    {
     "data": {
      "text/plain": [
       "<sqlite3.Cursor at 0x1afbc9006c0>"
      ]
     },
     "execution_count": 4,
     "metadata": {},
     "output_type": "execute_result"
    }
   ],
   "source": [
    "# Create employees tables \n",
    "cursor.execute('''\n",
    "               CREATE TABLE IF NOT EXISTS employees\n",
    "               (id INTEGER PRIMAY KEY, \n",
    "               name TEXT,\n",
    "               role TEXT,\n",
    "               department TEXT,\n",
    "               age INTEGER,\n",
    "               gender TEXT,\n",
    "               salary REAL)\n",
    "               ''')"
   ]
  },
  {
   "cell_type": "code",
   "execution_count": 5,
   "id": "25210cf6",
   "metadata": {},
   "outputs": [
    {
     "data": {
      "text/plain": [
       "<sqlite3.Cursor at 0x1afbc9006c0>"
      ]
     },
     "execution_count": 5,
     "metadata": {},
     "output_type": "execute_result"
    }
   ],
   "source": [
    "# Create projects tables \n",
    "cursor.execute('''\n",
    "               CREATE TABLE IF NOT EXISTS projects\n",
    "               (id INTEGER PRIMAY KEY, \n",
    "               name TEXT,\n",
    "               status TEXT,\n",
    "               department TEXT,\n",
    "               budget REAL,\n",
    "               priority TEXT,\n",
    "               manager_id INTEGER)\n",
    "               ''')"
   ]
  },
  {
   "cell_type": "code",
   "execution_count": 6,
   "id": "8cee4d92",
   "metadata": {},
   "outputs": [],
   "source": [
    "# Create sample data for the employees table\n",
    "employees = [\n",
    "    (1, 'John Smith', 'Data Analyst', 'IT', 30, 'Male', 75000.00),\n",
    "    (2, 'Jane Doe', 'Project Manager', 'Operations', 45, 'Female', 95000.00),\n",
    "    (3, 'Peter Jones', 'Software Engineer', 'IT', 28, 'Male', 85000.00),\n",
    "    (4, 'Sarah Lee', 'HR Specialist', 'Human Resources', 34, 'Female', 65000.00),\n",
    "    (5, 'Mike Brown', 'Financial Analyst', 'Finance', 40, 'Male', 110000.00),\n",
    "    (6, 'Emily Davis', 'Marketing Coordinator', 'Marketing', 25, 'Female', 58000.00),\n",
    "    (7, 'Chris Evans', 'Database Administrator', 'IT', 50, 'Male', 120000.00),\n",
    "    (8, 'Jessica White', 'Recruiter', 'Human Resources', 32, 'Female', 72000.00),\n",
    "    (9, 'David Wilson', 'Sales Manager', 'Sales', 48, 'Male', 130000.00),\n",
    "    (10, 'Olivia Martin', 'Graphic Designer', 'Marketing', 29, 'Female', 62000.00)\n",
    "]\n",
    "\n",
    "projects = [\n",
    "    (1, 'Website Redesign', 'In Progress', 'IT', 55000.00, 'High', 3),\n",
    "    (2, 'Mobile App Development', 'Completed', 'IT', 150000.00, 'High', 2),\n",
    "    (3, 'Internal Database Migration', 'Planning', 'IT', 80000.00, 'Medium', 7),\n",
    "    (4, 'Cloud Infrastructure Upgrade', 'In Progress', 'IT', 250000.00, 'High', 1),\n",
    "    (5, 'Marketing Campaign Launch', 'Completed', 'Marketing', 30000.00, 'Medium', 6),\n",
    "    (6, 'New Product Research', 'Planning', 'R&D', 10000.00, 'Low', 5),\n",
    "    (7, 'Cybersecurity Audit', 'In Progress', 'IT', 75000.00, 'High', 7),\n",
    "    (8, 'Employee Training Portal', 'Completed', 'Human Resources', 45000.00, 'Medium', 4),\n",
    "    (9, 'Sales Funnel Optimization', 'In Progress', 'Sales', 60000.00, 'High', 9),\n",
    "    (10, 'Corporate Rebranding', 'Planning', 'Marketing', 90000.00, 'Low', 10)\n",
    "]"
   ]
  },
  {
   "cell_type": "code",
   "execution_count": 7,
   "id": "6f5bfc3a",
   "metadata": {},
   "outputs": [
    {
     "data": {
      "text/plain": [
       "<sqlite3.Cursor at 0x1afbc9006c0>"
      ]
     },
     "execution_count": 7,
     "metadata": {},
     "output_type": "execute_result"
    }
   ],
   "source": [
    "# Insert the data into the table\n",
    "cursor.executemany('INSERT OR REPLACE INTO employees VALUES (?, ?, ?, ?, ?, ?, ?)', employees)\n",
    "cursor.executemany('INSERT OR REPLACE INTO projects VALUES (?, ?, ?, ?, ?, ?, ?)', projects)\n"
   ]
  },
  {
   "cell_type": "code",
   "execution_count": 8,
   "id": "e81ded1a",
   "metadata": {},
   "outputs": [
    {
     "data": {
      "text/plain": [
       "<sqlite3.Cursor at 0x1afbc9006c0>"
      ]
     },
     "execution_count": 8,
     "metadata": {},
     "output_type": "execute_result"
    }
   ],
   "source": [
    "cursor.execute('SELECT * FROM employees')"
   ]
  },
  {
   "cell_type": "code",
   "execution_count": 9,
   "id": "6e8a8d51",
   "metadata": {},
   "outputs": [],
   "source": [
    "conn.commit()\n",
    "conn.close()"
   ]
  },
  {
   "cell_type": "markdown",
   "id": "7fb3e614",
   "metadata": {},
   "source": [
    "Databse Content Extraction"
   ]
  },
  {
   "cell_type": "code",
   "execution_count": 10,
   "id": "243b5050",
   "metadata": {},
   "outputs": [
    {
     "name": "stdout",
     "output_type": "stream",
     "text": [
      "Tables: ['employees', 'projects']\n",
      "\n",
      "Table DDL:\n",
      "\n",
      "CREATE TABLE employees (\n",
      "\tid INTEGER, \n",
      "\tname TEXT, \n",
      "\trole TEXT, \n",
      "\tdepartment TEXT, \n",
      "\tage INTEGER, \n",
      "\tgender TEXT, \n",
      "\tsalary REAL\n",
      ")\n",
      "\n",
      "/*\n",
      "3 rows from employees table:\n",
      "id\tname\trole\tdepartment\tage\tgender\tsalary\n",
      "1\tJohn Smith\tData Analyst\tIT\t30\tMale\t75000.0\n",
      "2\tJane Doe\tProject Manager\tOperations\t45\tFemale\t95000.0\n",
      "3\tPeter Jones\tSoftware Engineer\tIT\t28\tMale\t85000.0\n",
      "*/\n",
      "\n",
      "\n",
      "CREATE TABLE projects (\n",
      "\tid INTEGER, \n",
      "\tname TEXT, \n",
      "\tstatus TEXT, \n",
      "\tdepartment TEXT, \n",
      "\tbudget REAL, \n",
      "\tpriority TEXT, \n",
      "\tmanager_id INTEGER\n",
      ")\n",
      "\n",
      "/*\n",
      "3 rows from projects table:\n",
      "id\tname\tstatus\tdepartment\tbudget\tpriority\tmanager_id\n",
      "1\tWebsite Redesign\tIn Progress\tIT\t55000.0\tHigh\t3\n",
      "2\tMobile App Development\tCompleted\tIT\t150000.0\tHigh\t2\n",
      "3\tInternal Database Migration\tPlanning\tIT\t80000.0\tMedium\t7\n",
      "*/\n"
     ]
    }
   ],
   "source": [
    "# Method 1: Using SQLDATABASES utility\n",
    "\n",
    "db = SQLDatabase.from_uri('sqlite:///data/db/company_db.db')\n",
    "\n",
    "# Extract database information\n",
    "print(f'Tables: {db.get_usable_table_names()}')\n",
    "print(f'\\nTable DDL:')\n",
    "print(db.get_table_info())"
   ]
  },
  {
   "cell_type": "code",
   "execution_count": 11,
   "id": "cd5e65c1",
   "metadata": {},
   "outputs": [
    {
     "name": "stdout",
     "output_type": "stream",
     "text": [
      "Custom SQL Processing\n"
     ]
    }
   ],
   "source": [
    "# Method 2: Conversion of Custom SQL to Document \n",
    "print('Custom SQL Processing')\n",
    "\n",
    "def sql_to_documents(db_path:str)-> List[Document]:\n",
    "    '''Conversion of SQL Database to documents with context'''\n",
    "    \n",
    "    conn = sqlite3.connect(db_path)\n",
    "    cursor = conn.cursor()\n",
    "    documents = []\n",
    "    \n",
    "    # Create documents for each table\n",
    "    cursor.execute(\"SELECT name FROM sqlite_master WHERE type='table';\")\n",
    "    tables = cursor.fetchall()\n",
    "    \n",
    "    for table in tables:\n",
    "        table_name = table[0]\n",
    "        \n",
    "        # Get the table schema\n",
    "        cursor.execute(f'PRAGMA table_info({table_name});')\n",
    "        columns = cursor.fetchall()\n",
    "        column_names = [col[1] for col in columns]\n",
    "        \n",
    "        # Get the table data\n",
    "        cursor.execute(f\"SELECT * FROM {table_name}\")\n",
    "        rows = cursor.fetchall()\n",
    "        \n",
    "        #Create table overviews document\n",
    "        table_content = f'Table: {table_name}\\n'\n",
    "        table_content += f\"Columns: {', '.join(column_names)}\\n\"\n",
    "        table_content += f'Total Records: {len(rows)}\\n\\n'\n",
    "        \n",
    "        # Add sample records\n",
    "        table_content += 'Sample Records:\\n'\n",
    "        for row in rows[:5]: # Get the first 5 rows\n",
    "            record = dict(zip(column_names, row))\n",
    "            table_content += f'{record}\\n'\n",
    "            \n",
    "        doc = Document(\n",
    "            page_content=table_content,\n",
    "            metadata = {\n",
    "                'source': db_path,\n",
    "                'table_name': table_name,\n",
    "                'row_records': len(rows),\n",
    "                'data_type': 'sql_table'\n",
    "            }\n",
    "        )\n",
    "        \n",
    "        documents.append(doc)\n",
    "    return documents"
   ]
  },
  {
   "cell_type": "code",
   "execution_count": 12,
   "id": "a05f0d40",
   "metadata": {},
   "outputs": [
    {
     "data": {
      "text/plain": [
       "[Document(metadata={'source': 'data/db/company_db.db', 'table_name': 'employees', 'row_records': 10, 'data_type': 'sql_table'}, page_content=\"Table: employees\\nColumns: id, name, role, department, age, gender, salary\\nTotal Records: 10\\n\\nSample Records:\\n{'id': 1, 'name': 'John Smith', 'role': 'Data Analyst', 'department': 'IT', 'age': 30, 'gender': 'Male', 'salary': 75000.0}\\n{'id': 2, 'name': 'Jane Doe', 'role': 'Project Manager', 'department': 'Operations', 'age': 45, 'gender': 'Female', 'salary': 95000.0}\\n{'id': 3, 'name': 'Peter Jones', 'role': 'Software Engineer', 'department': 'IT', 'age': 28, 'gender': 'Male', 'salary': 85000.0}\\n{'id': 4, 'name': 'Sarah Lee', 'role': 'HR Specialist', 'department': 'Human Resources', 'age': 34, 'gender': 'Female', 'salary': 65000.0}\\n{'id': 5, 'name': 'Mike Brown', 'role': 'Financial Analyst', 'department': 'Finance', 'age': 40, 'gender': 'Male', 'salary': 110000.0}\\n\"),\n",
       " Document(metadata={'source': 'data/db/company_db.db', 'table_name': 'projects', 'row_records': 10, 'data_type': 'sql_table'}, page_content=\"Table: projects\\nColumns: id, name, status, department, budget, priority, manager_id\\nTotal Records: 10\\n\\nSample Records:\\n{'id': 1, 'name': 'Website Redesign', 'status': 'In Progress', 'department': 'IT', 'budget': 55000.0, 'priority': 'High', 'manager_id': 3}\\n{'id': 2, 'name': 'Mobile App Development', 'status': 'Completed', 'department': 'IT', 'budget': 150000.0, 'priority': 'High', 'manager_id': 2}\\n{'id': 3, 'name': 'Internal Database Migration', 'status': 'Planning', 'department': 'IT', 'budget': 80000.0, 'priority': 'Medium', 'manager_id': 7}\\n{'id': 4, 'name': 'Cloud Infrastructure Upgrade', 'status': 'In Progress', 'department': 'IT', 'budget': 250000.0, 'priority': 'High', 'manager_id': 1}\\n{'id': 5, 'name': 'Marketing Campaign Launch', 'status': 'Completed', 'department': 'Marketing', 'budget': 30000.0, 'priority': 'Medium', 'manager_id': 6}\\n\")]"
      ]
     },
     "execution_count": 12,
     "metadata": {},
     "output_type": "execute_result"
    }
   ],
   "source": [
    "sql_to_documents('data/db/company_db.db')"
   ]
  },
  {
   "cell_type": "code",
   "execution_count": 13,
   "id": "21232333",
   "metadata": {},
   "outputs": [
    {
     "name": "stdout",
     "output_type": "stream",
     "text": [
      "page_content='Table: employees\n",
      "Columns: id, name, role, department, age, gender, salary\n",
      "Total Records: 10\n",
      "\n",
      "Sample Records:\n",
      "{'id': 1, 'name': 'John Smith', 'role': 'Data Analyst', 'department': 'IT', 'age': 30, 'gender': 'Male', 'salary': 75000.0}\n",
      "{'id': 2, 'name': 'Jane Doe', 'role': 'Project Manager', 'department': 'Operations', 'age': 45, 'gender': 'Female', 'salary': 95000.0}\n",
      "{'id': 3, 'name': 'Peter Jones', 'role': 'Software Engineer', 'department': 'IT', 'age': 28, 'gender': 'Male', 'salary': 85000.0}\n",
      "{'id': 4, 'name': 'Sarah Lee', 'role': 'HR Specialist', 'department': 'Human Resources', 'age': 34, 'gender': 'Female', 'salary': 65000.0}\n",
      "{'id': 5, 'name': 'Mike Brown', 'role': 'Financial Analyst', 'department': 'Finance', 'age': 40, 'gender': 'Male', 'salary': 110000.0}\n",
      "' metadata={'source': 'data/db/company_db.db', 'table_name': 'employees', 'row_records': 10, 'data_type': 'sql_table'}\n",
      "page_content='Table: projects\n",
      "Columns: id, name, status, department, budget, priority, manager_id\n",
      "Total Records: 10\n",
      "\n",
      "Sample Records:\n",
      "{'id': 1, 'name': 'Website Redesign', 'status': 'In Progress', 'department': 'IT', 'budget': 55000.0, 'priority': 'High', 'manager_id': 3}\n",
      "{'id': 2, 'name': 'Mobile App Development', 'status': 'Completed', 'department': 'IT', 'budget': 150000.0, 'priority': 'High', 'manager_id': 2}\n",
      "{'id': 3, 'name': 'Internal Database Migration', 'status': 'Planning', 'department': 'IT', 'budget': 80000.0, 'priority': 'Medium', 'manager_id': 7}\n",
      "{'id': 4, 'name': 'Cloud Infrastructure Upgrade', 'status': 'In Progress', 'department': 'IT', 'budget': 250000.0, 'priority': 'High', 'manager_id': 1}\n",
      "{'id': 5, 'name': 'Marketing Campaign Launch', 'status': 'Completed', 'department': 'Marketing', 'budget': 30000.0, 'priority': 'Medium', 'manager_id': 6}\n",
      "' metadata={'source': 'data/db/company_db.db', 'table_name': 'projects', 'row_records': 10, 'data_type': 'sql_table'}\n"
     ]
    }
   ],
   "source": [
    "for sql_doc in sql_to_documents('data/db/company_db.db'):\n",
    "    print(sql_doc)"
   ]
  },
  {
   "cell_type": "code",
   "execution_count": null,
   "id": "a7dfe249",
   "metadata": {},
   "outputs": [],
   "source": []
  }
 ],
 "metadata": {
  "kernelspec": {
   "display_name": "RAG_project",
   "language": "python",
   "name": "python3"
  },
  "language_info": {
   "codemirror_mode": {
    "name": "ipython",
    "version": 3
   },
   "file_extension": ".py",
   "mimetype": "text/x-python",
   "name": "python",
   "nbconvert_exporter": "python",
   "pygments_lexer": "ipython3",
   "version": "3.13.7"
  }
 },
 "nbformat": 4,
 "nbformat_minor": 5
}
