{
 "cells": [
  {
   "cell_type": "markdown",
   "id": "43640046",
   "metadata": {},
   "source": [
    "### Ingestion And Data Parsing Word Documents"
   ]
  },
  {
   "cell_type": "markdown",
   "id": "a9f88095",
   "metadata": {},
   "source": [
    "Word Document Processing"
   ]
  },
  {
   "cell_type": "code",
   "execution_count": 10,
   "id": "e550d973",
   "metadata": {},
   "outputs": [],
   "source": [
    "from langchain_community.document_loaders import Docx2txtLoader, UnstructuredWordDocumentLoader"
   ]
  },
  {
   "cell_type": "code",
   "execution_count": 14,
   "id": "2f2c2ace",
   "metadata": {},
   "outputs": [
    {
     "name": "stdout",
     "output_type": "stream",
     "text": [
      "Using Docx2txtLoader\n",
      "Loaded {len(docs)} documents\n",
      "Content preview: 🥧 Meat Pie Menu Proposal\n",
      "\n",
      "Business Name: Tasty Grill\n",
      "\n",
      "Date: 20/02/2025\n",
      "\n",
      "Prepared By: ABC Company\n",
      "\n",
      "\n",
      "\n",
      "1. Executive Summary\n",
      "\n",
      "This proposal outlines a curated menu of premium meat pies designed to appeal ....\n",
      "Metadata: {'source': 'data/word_files/snack_proposals.docx'}\n"
     ]
    }
   ],
   "source": [
    "# Method 1: Using Docx2txtLoader\n",
    "\n",
    "print('Using Docx2txtLoader')\n",
    "\n",
    "try:\n",
    "    docx_loader = Docx2txtLoader('data/word_files/snack_proposals.docx')\n",
    "    # Load the docx file\n",
    "    docs = docx_loader.load()\n",
    "    print('Loaded {len(docs)} documents')\n",
    "    print(f'Content preview: {docs[0].page_content[:200]}....')\n",
    "    print(f'Metadata: {docs[0].metadata}')\n",
    "    \n",
    "except Exception as e:\n",
    "    print(f'Error: {e}')"
   ]
  },
  {
   "cell_type": "code",
   "execution_count": 25,
   "id": "b7a38218",
   "metadata": {},
   "outputs": [
    {
     "name": "stdout",
     "output_type": "stream",
     "text": [
      "\n",
      " Using UnstructuredWordDocumentLoader\n",
      "Loaded 31 elements\n",
      "\n",
      "Element 16\n",
      "Type: PageBreak\n",
      "Content: .....\n",
      "\n",
      "Element 17\n",
      "Type: ListItem\n",
      "Content: Meat will be procured from certified suppliers to ensure hygiene and quality.....\n",
      "\n",
      "Element 18\n",
      "Type: ListItem\n",
      "Content: Packaging will be eco-friendly and suitable for takeaway and delivery.....\n",
      "\n",
      "Element 19\n",
      "Type: UncategorizedText\n",
      "Content: 5. Marketing Strategy.....\n",
      "\n",
      "Element 20\n",
      "Type: ListItem\n",
      "Content: Launch campaign with free samples and combo deals.....\n",
      "\n",
      "Element 21\n",
      "Type: ListItem\n",
      "Content: Social media promotion with behind-the-scenes baking content.....\n",
      "\n",
      "Element 22\n",
      "Type: ListItem\n",
      "Content: Loyalty program for repeat customers.....\n",
      "\n",
      "Element 23\n",
      "Type: ListItem\n",
      "Content: Collaborations with food influencers and local events.....\n",
      "\n",
      "Element 24\n",
      "Type: UncategorizedText\n",
      "Content: 6. Financial Projection.....\n",
      "\n",
      "Element 25\n",
      "Type: ListItem\n",
      "Content: Estimated monthly sales: ₦500,000 – ₦750,000.....\n",
      "\n",
      "Element 26\n",
      "Type: ListItem\n",
      "Content: Gross margin: 40–50%.....\n",
      "\n",
      "Element 27\n",
      "Type: ListItem\n",
      "Content: Break-even point: Within 3 months of launch.....\n",
      "\n",
      "Element 28\n",
      "Type: ListItem\n",
      "Content: Initial investment: ₦200,000 (equipment, ingredients, branding).....\n",
      "\n",
      "Element 29\n",
      "Type: UncategorizedText\n",
      "Content: 7. Conclusion.....\n",
      "\n",
      "Element 30\n",
      "Type: NarrativeText\n",
      "Content: The Meat Pie Menu is a strategic addition to our product line, offering high demand, low waste, and .....\n",
      "\n",
      "Element 31\n",
      "Type: NarrativeText\n",
      "Content: Would you like help formatting this into a branded document with headers, logo placement, or visual .....\n"
     ]
    }
   ],
   "source": [
    "# Method 2: Using UnstructuredWordDocumentLoader\n",
    "print('\\n Using UnstructuredWordDocumentLoader')\n",
    "try:\n",
    "    unstructured_loader =  UnstructuredWordDocumentLoader('data/word_files/snack_proposals.docx', mode='elements')\n",
    "    unstructured_docs = unstructured_loader.load()\n",
    "    \n",
    "    print(f'Loaded {len(unstructured_docs)} elements')\n",
    "    for i, doc in enumerate(unstructured_docs):\n",
    "        if i >= 15:\n",
    "            print(f'\\nElement {i+1}')\n",
    "            print(f'Type: {doc.metadata.get('category', 'unknown')}')\n",
    "            print(f'Content: {doc.page_content[:100]}.....')\n",
    "        \n",
    "except Exception as e:\n",
    "    print(f'Error: {e}')\n"
   ]
  },
  {
   "cell_type": "code",
   "execution_count": 27,
   "id": "07cb2d23",
   "metadata": {},
   "outputs": [
    {
     "data": {
      "text/plain": [
       "Document(metadata={'source': 'data/word_files/snack_proposals.docx', 'category_depth': 0, 'file_directory': 'data/word_files', 'filename': 'snack_proposals.docx', 'last_modified': '2025-09-09T19:28:32', 'page_number': 2, 'languages': ['eng'], 'filetype': 'application/vnd.openxmlformats-officedocument.wordprocessingml.document', 'category': 'ListItem', 'element_id': '16fb9c9524ee0e7fcb8f557635abe8e5'}, page_content='Social media promotion with behind-the-scenes baking content')"
      ]
     },
     "execution_count": 27,
     "metadata": {},
     "output_type": "execute_result"
    }
   ],
   "source": [
    "unstructured_docs[20]"
   ]
  },
  {
   "cell_type": "code",
   "execution_count": 28,
   "id": "589605b6",
   "metadata": {},
   "outputs": [
    {
     "data": {
      "text/plain": [
       "[Document(metadata={'source': 'data/word_files/snack_proposals.docx', 'category_depth': 0, 'emphasized_text_contents': ['🥧', 'Meat Pie Menu Proposal'], 'emphasized_text_tags': ['b', 'b'], 'file_directory': 'data/word_files', 'filename': 'snack_proposals.docx', 'last_modified': '2025-09-09T19:28:32', 'page_number': 1, 'languages': ['eng'], 'filetype': 'application/vnd.openxmlformats-officedocument.wordprocessingml.document', 'category': 'UncategorizedText', 'element_id': '46d4ede6d1566c8c89326f6cc20603fc'}, page_content='🥧 Meat Pie Menu Proposal'),\n",
       " Document(metadata={'source': 'data/word_files/snack_proposals.docx', 'category_depth': 0, 'emphasized_text_contents': ['Business Name:', 'Tasty Grill'], 'emphasized_text_tags': ['b', 'b'], 'file_directory': 'data/word_files', 'filename': 'snack_proposals.docx', 'last_modified': '2025-09-09T19:28:32', 'page_number': 1, 'languages': ['eng'], 'filetype': 'application/vnd.openxmlformats-officedocument.wordprocessingml.document', 'category': 'UncategorizedText', 'element_id': '882a31ad7366760a6f2b52ce2a37958e'}, page_content='Business Name: Tasty Grill'),\n",
       " Document(metadata={'source': 'data/word_files/snack_proposals.docx', 'category_depth': 0, 'emphasized_text_contents': ['Date:', '20/02/2025'], 'emphasized_text_tags': ['b', 'b'], 'file_directory': 'data/word_files', 'filename': 'snack_proposals.docx', 'last_modified': '2025-09-09T19:28:32', 'page_number': 1, 'languages': ['eng'], 'filetype': 'application/vnd.openxmlformats-officedocument.wordprocessingml.document', 'category': 'UncategorizedText', 'element_id': '2ef6aa0b9b30769d2aa1b8489759e011'}, page_content='Date: 20/02/2025'),\n",
       " Document(metadata={'source': 'data/word_files/snack_proposals.docx', 'category_depth': 0, 'emphasized_text_contents': ['Prepared By:', 'ABC Company'], 'emphasized_text_tags': ['b', 'b'], 'file_directory': 'data/word_files', 'filename': 'snack_proposals.docx', 'last_modified': '2025-09-09T19:28:32', 'page_number': 1, 'languages': ['eng'], 'filetype': 'application/vnd.openxmlformats-officedocument.wordprocessingml.document', 'category': 'UncategorizedText', 'element_id': '6033581186ed878a44e209b223b88640'}, page_content='Prepared By: ABC Company'),\n",
       " Document(metadata={'source': 'data/word_files/snack_proposals.docx', 'category_depth': 0, 'emphasized_text_contents': ['1. Executive Summary'], 'emphasized_text_tags': ['b'], 'file_directory': 'data/word_files', 'filename': 'snack_proposals.docx', 'last_modified': '2025-09-09T19:28:32', 'page_number': 1, 'languages': ['eng'], 'filetype': 'application/vnd.openxmlformats-officedocument.wordprocessingml.document', 'category': 'UncategorizedText', 'element_id': 'eb00ed5390c4dfd591948bdad1593cd1'}, page_content='1. Executive Summary'),\n",
       " Document(metadata={'source': 'data/word_files/snack_proposals.docx', 'category_depth': 0, 'file_directory': 'data/word_files', 'filename': 'snack_proposals.docx', 'last_modified': '2025-09-09T19:28:32', 'page_number': 1, 'languages': ['eng'], 'filetype': 'application/vnd.openxmlformats-officedocument.wordprocessingml.document', 'category': 'NarrativeText', 'element_id': 'a001c795d188b391b55b0ecbc2d8b5e5'}, page_content='This proposal outlines a curated menu of premium meat pies designed to appeal to a wide range of customers. Our offerings combine traditional flavors with innovative twists, using high-quality ingredients and artisanal baking techniques. The goal is to establish a signature meat pie line that enhances our brand identity and drives consistent sales.'),\n",
       " Document(metadata={'source': 'data/word_files/snack_proposals.docx', 'category_depth': 0, 'emphasized_text_contents': ['2. Objectives'], 'emphasized_text_tags': ['b'], 'file_directory': 'data/word_files', 'filename': 'snack_proposals.docx', 'last_modified': '2025-09-09T19:28:32', 'page_number': 1, 'languages': ['eng'], 'filetype': 'application/vnd.openxmlformats-officedocument.wordprocessingml.document', 'category': 'UncategorizedText', 'element_id': '3b5758c300f1e6bdb4ae430f7af55c3a'}, page_content='2. Objectives'),\n",
       " Document(metadata={'source': 'data/word_files/snack_proposals.docx', 'category_depth': 0, 'file_directory': 'data/word_files', 'filename': 'snack_proposals.docx', 'last_modified': '2025-09-09T19:28:32', 'page_number': 1, 'languages': ['eng'], 'filetype': 'application/vnd.openxmlformats-officedocument.wordprocessingml.document', 'category': 'ListItem', 'element_id': '34ba4fc9b93992c8f237972d2f14a391'}, page_content='Introduce a diverse selection of meat pies to suit varying tastes and dietary needs'),\n",
       " Document(metadata={'source': 'data/word_files/snack_proposals.docx', 'category_depth': 0, 'file_directory': 'data/word_files', 'filename': 'snack_proposals.docx', 'last_modified': '2025-09-09T19:28:32', 'page_number': 1, 'languages': ['eng'], 'filetype': 'application/vnd.openxmlformats-officedocument.wordprocessingml.document', 'category': 'ListItem', 'element_id': 'b9c01583d7d8b04b74384579ada4f4a2'}, page_content='Maintain consistent quality and freshness across all offerings'),\n",
       " Document(metadata={'source': 'data/word_files/snack_proposals.docx', 'category_depth': 0, 'file_directory': 'data/word_files', 'filename': 'snack_proposals.docx', 'last_modified': '2025-09-09T19:28:32', 'page_number': 1, 'languages': ['eng'], 'filetype': 'application/vnd.openxmlformats-officedocument.wordprocessingml.document', 'category': 'ListItem', 'element_id': 'a1978db6395727b7f2743061b70fa33d'}, page_content='Increase customer retention through seasonal and limited-edition flavors'),\n",
       " Document(metadata={'source': 'data/word_files/snack_proposals.docx', 'category_depth': 0, 'file_directory': 'data/word_files', 'filename': 'snack_proposals.docx', 'last_modified': '2025-09-09T19:28:32', 'page_number': 1, 'languages': ['eng'], 'filetype': 'application/vnd.openxmlformats-officedocument.wordprocessingml.document', 'category': 'ListItem', 'element_id': 'e16e8f58ed06bc55cc549c4d65eb0145'}, page_content='Position our brand as a go-to destination for gourmet savory pastries'),\n",
       " Document(metadata={'source': 'data/word_files/snack_proposals.docx', 'category_depth': 0, 'emphasized_text_contents': ['3. Proposed Menu Items'], 'emphasized_text_tags': ['b'], 'file_directory': 'data/word_files', 'filename': 'snack_proposals.docx', 'last_modified': '2025-09-09T19:28:32', 'page_number': 1, 'languages': ['eng'], 'filetype': 'application/vnd.openxmlformats-officedocument.wordprocessingml.document', 'category': 'UncategorizedText', 'element_id': 'dda65c456dbfe4c2a12cf2f3405ef01f'}, page_content='3. Proposed Menu Items'),\n",
       " Document(metadata={'source': 'data/word_files/snack_proposals.docx', 'emphasized_text_contents': ['Meat Pie Variant', 'Description', 'Price (₦)'], 'emphasized_text_tags': ['b', 'b', 'b'], 'file_directory': 'data/word_files', 'filename': 'snack_proposals.docx', 'last_modified': '2025-09-09T19:28:32', 'page_number': 1, 'text_as_html': '<table><tr><td>Meat Pie Variant</td><td>Description</td><td>Price (₦)</td></tr><tr><td>Classic Beef Pie</td><td>Tender minced beef, onions, and spices in golden crust</td><td>800</td></tr><tr><td>Spicy Chicken Pie</td><td>Shredded chicken, chili, and herbs for a fiery kick</td><td>850</td></tr><tr><td>Mushroom &amp; Steak Pie</td><td>Chunky steak with sautéed mushrooms in rich gravy</td><td>1,000</td></tr><tr><td>Sausage &amp; Cheese Pie</td><td>Savory sausage blend with melted cheddar</td><td>900</td></tr><tr><td>Vegetable &amp; Minced Meat Pie</td><td>Mixed veggies and beef for a balanced bite</td><td>850</td></tr><tr><td>Mini Meat Pie (Party Pack)</td><td>Bite-sized versions for events and catering</td><td>5,000 (12 pcs)</td></tr></table>', 'languages': ['eng'], 'filetype': 'application/vnd.openxmlformats-officedocument.wordprocessingml.document', 'category': 'Table', 'element_id': '3169d12e12e1377fa9a72a029513262e'}, page_content='Meat Pie Variant Description Price (₦) Classic Beef Pie Tender minced beef, onions, and spices in golden crust 800 Spicy Chicken Pie Shredded chicken, chili, and herbs for a fiery kick 850 Mushroom & Steak Pie Chunky steak with sautéed mushrooms in rich gravy 1,000 Sausage & Cheese Pie Savory sausage blend with melted cheddar 900 Vegetable & Minced Meat Pie Mixed veggies and beef for a balanced bite 850 Mini Meat Pie (Party Pack) Bite-sized versions for events and catering 5,000 (12 pcs)'),\n",
       " Document(metadata={'source': 'data/word_files/snack_proposals.docx', 'category_depth': 0, 'emphasized_text_contents': ['4. Production & Sourcing'], 'emphasized_text_tags': ['b'], 'file_directory': 'data/word_files', 'filename': 'snack_proposals.docx', 'last_modified': '2025-09-09T19:28:32', 'page_number': 1, 'languages': ['eng'], 'filetype': 'application/vnd.openxmlformats-officedocument.wordprocessingml.document', 'category': 'UncategorizedText', 'element_id': '43924cbb7877c42b3db89367b6895424'}, page_content='4. Production & Sourcing'),\n",
       " Document(metadata={'source': 'data/word_files/snack_proposals.docx', 'category_depth': 0, 'file_directory': 'data/word_files', 'filename': 'snack_proposals.docx', 'last_modified': '2025-09-09T19:28:32', 'page_number': 1, 'languages': ['eng'], 'filetype': 'application/vnd.openxmlformats-officedocument.wordprocessingml.document', 'category': 'ListItem', 'element_id': '5d3c2b20d4fd289e1adfe2f376dd3c91'}, page_content='All pies will be baked fresh daily using locally sourced ingredients'),\n",
       " Document(metadata={'source': 'data/word_files/snack_proposals.docx', 'languages': ['eng'], 'file_directory': 'data/word_files', 'filename': 'snack_proposals.docx', 'filetype': 'application/vnd.openxmlformats-officedocument.wordprocessingml.document', 'category': 'PageBreak', 'element_id': 'e60b104b492906bed9bee08946df1314'}, page_content=''),\n",
       " Document(metadata={'source': 'data/word_files/snack_proposals.docx', 'category_depth': 0, 'file_directory': 'data/word_files', 'filename': 'snack_proposals.docx', 'last_modified': '2025-09-09T19:28:32', 'page_number': 2, 'languages': ['eng'], 'filetype': 'application/vnd.openxmlformats-officedocument.wordprocessingml.document', 'category': 'ListItem', 'element_id': '4927e8c7b6bd35a75b0f0a90337d79b0'}, page_content='Meat will be procured from certified suppliers to ensure hygiene and quality'),\n",
       " Document(metadata={'source': 'data/word_files/snack_proposals.docx', 'category_depth': 0, 'file_directory': 'data/word_files', 'filename': 'snack_proposals.docx', 'last_modified': '2025-09-09T19:28:32', 'page_number': 2, 'languages': ['eng'], 'filetype': 'application/vnd.openxmlformats-officedocument.wordprocessingml.document', 'category': 'ListItem', 'element_id': 'e779d79fd349c716bba01b59490fd52d'}, page_content='Packaging will be eco-friendly and suitable for takeaway and delivery'),\n",
       " Document(metadata={'source': 'data/word_files/snack_proposals.docx', 'category_depth': 0, 'emphasized_text_contents': ['5. Marketing Strategy'], 'emphasized_text_tags': ['b'], 'file_directory': 'data/word_files', 'filename': 'snack_proposals.docx', 'last_modified': '2025-09-09T19:28:32', 'page_number': 2, 'languages': ['eng'], 'filetype': 'application/vnd.openxmlformats-officedocument.wordprocessingml.document', 'category': 'UncategorizedText', 'element_id': '9b6d7979d5a174eb2af9e49d64114b02'}, page_content='5. Marketing Strategy'),\n",
       " Document(metadata={'source': 'data/word_files/snack_proposals.docx', 'category_depth': 0, 'file_directory': 'data/word_files', 'filename': 'snack_proposals.docx', 'last_modified': '2025-09-09T19:28:32', 'page_number': 2, 'languages': ['eng'], 'filetype': 'application/vnd.openxmlformats-officedocument.wordprocessingml.document', 'category': 'ListItem', 'element_id': '24e41922d438953da9fb82766c1489de'}, page_content='Launch campaign with free samples and combo deals'),\n",
       " Document(metadata={'source': 'data/word_files/snack_proposals.docx', 'category_depth': 0, 'file_directory': 'data/word_files', 'filename': 'snack_proposals.docx', 'last_modified': '2025-09-09T19:28:32', 'page_number': 2, 'languages': ['eng'], 'filetype': 'application/vnd.openxmlformats-officedocument.wordprocessingml.document', 'category': 'ListItem', 'element_id': '16fb9c9524ee0e7fcb8f557635abe8e5'}, page_content='Social media promotion with behind-the-scenes baking content'),\n",
       " Document(metadata={'source': 'data/word_files/snack_proposals.docx', 'category_depth': 0, 'file_directory': 'data/word_files', 'filename': 'snack_proposals.docx', 'last_modified': '2025-09-09T19:28:32', 'page_number': 2, 'languages': ['eng'], 'filetype': 'application/vnd.openxmlformats-officedocument.wordprocessingml.document', 'category': 'ListItem', 'element_id': '08f33d2ee45e92573f38f15043e7f27a'}, page_content='Loyalty program for repeat customers'),\n",
       " Document(metadata={'source': 'data/word_files/snack_proposals.docx', 'category_depth': 0, 'file_directory': 'data/word_files', 'filename': 'snack_proposals.docx', 'last_modified': '2025-09-09T19:28:32', 'page_number': 2, 'languages': ['eng'], 'filetype': 'application/vnd.openxmlformats-officedocument.wordprocessingml.document', 'category': 'ListItem', 'element_id': '577a0ee4f974faede3bb8a8b1b6c9216'}, page_content='Collaborations with food influencers and local events'),\n",
       " Document(metadata={'source': 'data/word_files/snack_proposals.docx', 'category_depth': 0, 'emphasized_text_contents': ['6. Financial Projection'], 'emphasized_text_tags': ['b'], 'file_directory': 'data/word_files', 'filename': 'snack_proposals.docx', 'last_modified': '2025-09-09T19:28:32', 'page_number': 2, 'languages': ['eng'], 'filetype': 'application/vnd.openxmlformats-officedocument.wordprocessingml.document', 'category': 'UncategorizedText', 'element_id': '5bc0080f742e509d3902533d2d71a9e3'}, page_content='6. Financial Projection'),\n",
       " Document(metadata={'source': 'data/word_files/snack_proposals.docx', 'category_depth': 0, 'file_directory': 'data/word_files', 'filename': 'snack_proposals.docx', 'last_modified': '2025-09-09T19:28:32', 'page_number': 2, 'languages': ['eng'], 'filetype': 'application/vnd.openxmlformats-officedocument.wordprocessingml.document', 'category': 'ListItem', 'element_id': 'c92872e093aea88f968a2fc7d389afc1'}, page_content='Estimated monthly sales: ₦500,000 – ₦750,000'),\n",
       " Document(metadata={'source': 'data/word_files/snack_proposals.docx', 'category_depth': 0, 'file_directory': 'data/word_files', 'filename': 'snack_proposals.docx', 'last_modified': '2025-09-09T19:28:32', 'page_number': 2, 'languages': ['eng'], 'filetype': 'application/vnd.openxmlformats-officedocument.wordprocessingml.document', 'category': 'ListItem', 'element_id': 'db0517142903ac3da20511fce4a3997f'}, page_content='Gross margin: 40–50%'),\n",
       " Document(metadata={'source': 'data/word_files/snack_proposals.docx', 'category_depth': 0, 'file_directory': 'data/word_files', 'filename': 'snack_proposals.docx', 'last_modified': '2025-09-09T19:28:32', 'page_number': 2, 'languages': ['eng'], 'filetype': 'application/vnd.openxmlformats-officedocument.wordprocessingml.document', 'category': 'ListItem', 'element_id': 'bc2a03f125911f09af050dc7079d9059'}, page_content='Break-even point: Within 3 months of launch'),\n",
       " Document(metadata={'source': 'data/word_files/snack_proposals.docx', 'category_depth': 0, 'file_directory': 'data/word_files', 'filename': 'snack_proposals.docx', 'last_modified': '2025-09-09T19:28:32', 'page_number': 2, 'languages': ['eng'], 'filetype': 'application/vnd.openxmlformats-officedocument.wordprocessingml.document', 'category': 'ListItem', 'element_id': 'a0e29f7472521eee0484f2ca85266232'}, page_content='Initial investment: ₦200,000 (equipment, ingredients, branding)'),\n",
       " Document(metadata={'source': 'data/word_files/snack_proposals.docx', 'category_depth': 0, 'emphasized_text_contents': ['7. Conclusion'], 'emphasized_text_tags': ['b'], 'file_directory': 'data/word_files', 'filename': 'snack_proposals.docx', 'last_modified': '2025-09-09T19:28:32', 'page_number': 2, 'languages': ['eng'], 'filetype': 'application/vnd.openxmlformats-officedocument.wordprocessingml.document', 'category': 'UncategorizedText', 'element_id': '6054d029babf03e312df2ef7cdcfbcf8'}, page_content='7. Conclusion'),\n",
       " Document(metadata={'source': 'data/word_files/snack_proposals.docx', 'category_depth': 0, 'file_directory': 'data/word_files', 'filename': 'snack_proposals.docx', 'last_modified': '2025-09-09T19:28:32', 'page_number': 2, 'languages': ['eng'], 'filetype': 'application/vnd.openxmlformats-officedocument.wordprocessingml.document', 'category': 'NarrativeText', 'element_id': 'e3a88de4872b5db92418e9723bbfbf15'}, page_content='The Meat Pie Menu is a strategic addition to our product line, offering high demand, low waste, and strong profit margins. With the right execution, it will become a cornerstone of our brand and a favorite among customers.'),\n",
       " Document(metadata={'source': 'data/word_files/snack_proposals.docx', 'category_depth': 0, 'file_directory': 'data/word_files', 'filename': 'snack_proposals.docx', 'last_modified': '2025-09-09T19:28:32', 'page_number': 2, 'languages': ['eng'], 'filetype': 'application/vnd.openxmlformats-officedocument.wordprocessingml.document', 'category': 'NarrativeText', 'element_id': '685b9a62dffc20e1babb7c9163a7dbce'}, page_content='Would you like help formatting this into a branded document with headers, logo placement, or visual elements? I can guide you step-by-step.')]"
      ]
     },
     "execution_count": 28,
     "metadata": {},
     "output_type": "execute_result"
    }
   ],
   "source": [
    "unstructured_docs"
   ]
  },
  {
   "cell_type": "code",
   "execution_count": null,
   "id": "9f1ba2d4",
   "metadata": {},
   "outputs": [],
   "source": []
  }
 ],
 "metadata": {
  "kernelspec": {
   "display_name": "RAG_project",
   "language": "python",
   "name": "python3"
  },
  "language_info": {
   "codemirror_mode": {
    "name": "ipython",
    "version": 3
   },
   "file_extension": ".py",
   "mimetype": "text/x-python",
   "name": "python",
   "nbconvert_exporter": "python",
   "pygments_lexer": "ipython3",
   "version": "3.13.7"
  }
 },
 "nbformat": 4,
 "nbformat_minor": 5
}
